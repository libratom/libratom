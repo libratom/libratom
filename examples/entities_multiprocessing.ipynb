{
 "cells": [
  {
   "cell_type": "code",
   "execution_count": null,
   "metadata": {},
   "outputs": [],
   "source": [
    "import logging\n",
    "from pathlib import Path\n",
    "from contextlib import contextmanager\n",
    "\n",
    "from collections import defaultdict\n",
    "\n",
    "import multiprocessing\n",
    "\n",
    "from sqlalchemy import create_engine, Column, Integer, String\n",
    "from sqlalchemy.ext.declarative import declarative_base\n",
    "from sqlalchemy.orm import sessionmaker\n",
    "\n",
    "import ipywidgets as widgets\n",
    "from ipywidgets import Layout, Box\n",
    "from IPython.display import display\n",
    "\n",
    "import humanfriendly\n",
    "import pandas as pd\n",
    "\n",
    "from libratom.utils.pff import PffArchive"
   ]
  },
  {
   "cell_type": "markdown",
   "metadata": {},
   "source": [
    "### Set up spacy"
   ]
  },
  {
   "cell_type": "code",
   "execution_count": null,
   "metadata": {},
   "outputs": [],
   "source": [
    "import spacy\n",
    "nlp = spacy.load(\"en_core_web_sm\")"
   ]
  },
  {
   "cell_type": "markdown",
   "metadata": {},
   "source": [
    "### Log settings"
   ]
  },
  {
   "cell_type": "code",
   "execution_count": null,
   "metadata": {},
   "outputs": [],
   "source": [
    "# https://ipywidgets.readthedocs.io/en/stable/examples/Output%20Widget.html#Integrating-output-widgets-with-the-logging-module\n",
    "class OutputWidgetHandler(logging.Handler):\n",
    "    \"\"\" Custom logging handler sending logs to an output widget \"\"\"\n",
    "\n",
    "    def __init__(self, *args, **kwargs):\n",
    "        super(OutputWidgetHandler, self).__init__(*args, **kwargs)\n",
    "        layout = {\n",
    "            'display': 'flex',\n",
    "            'border': '1px solid lightgray',\n",
    "        }\n",
    "        self.out = widgets.Output(layout=layout)\n",
    "\n",
    "    def emit(self, record):\n",
    "        \"\"\" Overload of logging.Handler method \"\"\"\n",
    "        new_output = {\n",
    "            'name': 'stdout',\n",
    "            'output_type': 'stream',\n",
    "            'text': f'{self.format(record)}\\n'\n",
    "        }\n",
    "        self.out.outputs = (new_output, ) + self.out.outputs\n",
    "\n",
    "    def show_logs(self):\n",
    "        \"\"\" Show the logs \"\"\"\n",
    "        display(self.out)\n",
    "\n",
    "    def clear_logs(self):\n",
    "        \"\"\" Clear the current logs \"\"\"\n",
    "        self.out.clear_output()\n",
    "\n",
    "logger = logging.getLogger(__name__)\n",
    "handler = OutputWidgetHandler()\n",
    "handler.setFormatter(logging.Formatter(logging.BASIC_FORMAT))\n",
    "logger.addHandler(handler)\n",
    "logger.setLevel(logging.INFO)"
   ]
  },
  {
   "cell_type": "markdown",
   "metadata": {},
   "source": [
    "### Location of PST files"
   ]
  },
  {
   "cell_type": "code",
   "execution_count": null,
   "metadata": {},
   "outputs": [],
   "source": [
    "# Edit as appropriate\n",
    "CACHED_ENRON_DATA_DIR = Path(\"/tmp/libratom/test_data/RevisedEDRMv1_Complete/andy_zipper\")"
   ]
  },
  {
   "cell_type": "markdown",
   "metadata": {},
   "source": [
    "### DB file"
   ]
  },
  {
   "cell_type": "code",
   "execution_count": null,
   "metadata": {},
   "outputs": [],
   "source": [
    "DB_FILE = Path(\"/tmp/libratom/ner.db\")"
   ]
  },
  {
   "cell_type": "markdown",
   "metadata": {},
   "source": [
    "### Session variables"
   ]
  },
  {
   "cell_type": "code",
   "execution_count": null,
   "metadata": {},
   "outputs": [],
   "source": [
    "# Whether to update report widgets as we extract entities\n",
    "SHOW_PROGRESS = False\n",
    "SHOW_ENTITIES = False\n",
    "\n",
    "# Generate the list of files to know how many there are\n",
    "FILES = list(CACHED_ENRON_DATA_DIR.glob('**/*.pst'))"
   ]
  },
  {
   "cell_type": "markdown",
   "metadata": {},
   "source": [
    "### Database setup"
   ]
  },
  {
   "cell_type": "code",
   "execution_count": null,
   "metadata": {},
   "outputs": [],
   "source": [
    "# Remove previous DB file\n",
    "try:\n",
    "    DB_FILE.unlink()\n",
    "    logger.info(f'Removed existing database file: {DB_FILE}')\n",
    "except FileNotFoundError:\n",
    "    pass"
   ]
  },
  {
   "cell_type": "code",
   "execution_count": null,
   "metadata": {},
   "outputs": [],
   "source": [
    "engine = create_engine(f'sqlite:///{DB_FILE}')\n",
    "Session = sessionmaker(bind=engine)"
   ]
  },
  {
   "cell_type": "code",
   "execution_count": null,
   "metadata": {},
   "outputs": [],
   "source": [
    "Base = declarative_base()\n",
    "\n",
    "class Entity(Base):\n",
    "    __tablename__ = 'entities'\n",
    "    \n",
    "    id = Column(Integer, primary_key=True)\n",
    "    text = Column(String)\n",
    "    label_ = Column(String)\n",
    "    filename = Column(String)\n",
    "\n",
    "Base.metadata.create_all(engine)"
   ]
  },
  {
   "cell_type": "code",
   "execution_count": null,
   "metadata": {},
   "outputs": [],
   "source": [
    "Entity.__table__"
   ]
  },
  {
   "cell_type": "markdown",
   "metadata": {},
   "source": [
    "### Rendering"
   ]
  },
  {
   "cell_type": "code",
   "execution_count": null,
   "metadata": {},
   "outputs": [],
   "source": [
    "# Layouts\n",
    "report_box_layout = Layout(\n",
    "    display='flex',\n",
    "    flex_flow='column nowrap',\n",
    "    width='50%',\n",
    "    margin='0px 0px 4px 0px',\n",
    "    border='1px solid lightblue',\n",
    "    justify_content='center',\n",
    "    align_items='center'\n",
    ")\n",
    "\n",
    "entities_box_layout = Layout(\n",
    "    width='50%',\n",
    "    height='16em',\n",
    "    margin='0px 0px 4px 0px',\n",
    "    border='1px solid lightblue',\n",
    ")"
   ]
  },
  {
   "cell_type": "markdown",
   "metadata": {},
   "source": [
    "### Utility functions"
   ]
  },
  {
   "cell_type": "markdown",
   "metadata": {},
   "source": [
    "##### Widget update functions"
   ]
  },
  {
   "cell_type": "code",
   "execution_count": null,
   "metadata": {},
   "outputs": [],
   "source": [
    "def update_report(out, data):\n",
    "    \"\"\"Refreshes the report output widget\n",
    "    \"\"\"\n",
    "\n",
    "    out.clear_output(wait=True)\n",
    "    \n",
    "    df_data = {key: [value] for key, value in data.items()}\n",
    "    df_data['Size'] = [humanfriendly.format_size(data['Size'])]\n",
    "    \n",
    "    with out:\n",
    "        display(pd.DataFrame(df_data, index=['Total']))\n",
    "\n",
    "\n",
    "def update_entities(out, data):\n",
    "    \"\"\"Refreshes the entities output widget\n",
    "    \"\"\"\n",
    "\n",
    "    out.clear_output(wait=True)\n",
    "    \n",
    "    with out:\n",
    "        print('Sample of entities found')\n",
    "        print('------------------------')\n",
    "\n",
    "        for ent in data:\n",
    "            print(' '.join(ent.values()))"
   ]
  },
  {
   "cell_type": "markdown",
   "metadata": {},
   "source": [
    "##### Message generator"
   ]
  },
  {
   "cell_type": "code",
   "execution_count": null,
   "metadata": {},
   "outputs": [],
   "source": [
    "def get_messages(files, report):\n",
    "    # Iterate over files\n",
    "    for pst_file in files:\n",
    "        try:            \n",
    "            with PffArchive(pst_file) as archive:                \n",
    "                # Iterate over messages\n",
    "                for message in archive.messages():\n",
    "                    try:\n",
    "                        \n",
    "                        yield pst_file.name, archive.format_message(message)\n",
    "                        \n",
    "                        # Update report per message\n",
    "                        report['Messages'] += 1\n",
    "                        \n",
    "                    except Exception as exc:\n",
    "                        # Log and move on to the next message\n",
    "                        logger.exception(exc)\n",
    "\n",
    "            # Update report per file\n",
    "            report['Files'] += 1    \n",
    "            report['Size'] += pst_file.stat().st_size\n",
    "            \n",
    "            # Update progress bar\n",
    "            progress.value += 1\n",
    "                        \n",
    "        except Exception as exc:\n",
    "            # Log and move on to the next file\n",
    "            logger.exception(exc)"
   ]
  },
  {
   "cell_type": "markdown",
   "metadata": {},
   "source": [
    "##### Job function for the worker processes"
   ]
  },
  {
   "cell_type": "code",
   "execution_count": null,
   "metadata": {},
   "outputs": [],
   "source": [
    "def process_message(filename: str, message: str):\n",
    "    # Return basic types to avoid serialization issues\n",
    "\n",
    "    try:\n",
    "        # Extract entities from the message\n",
    "        doc = nlp(message)\n",
    "        \n",
    "        entities = [{'text': ent.text, 'label_': ent.label_, 'filename': filename} for ent in doc.ents]\n",
    "\n",
    "        return entities, None\n",
    "\n",
    "    except Exception as exc:\n",
    "        return None, str(exc)"
   ]
  },
  {
   "cell_type": "markdown",
   "metadata": {},
   "source": [
    "##### DB session context manager"
   ]
  },
  {
   "cell_type": "code",
   "execution_count": null,
   "metadata": {},
   "outputs": [],
   "source": [
    "@contextmanager\n",
    "def open_db_session():\n",
    "\n",
    "    session = Session()\n",
    "    try:\n",
    "        yield session\n",
    "        session.commit()\n",
    "    except:\n",
    "        session.rollback()\n",
    "        raise\n",
    "    finally:\n",
    "        session.close()"
   ]
  },
  {
   "cell_type": "markdown",
   "metadata": {},
   "source": [
    "### Initialize progress and report widgets"
   ]
  },
  {
   "cell_type": "code",
   "execution_count": null,
   "metadata": {},
   "outputs": [],
   "source": [
    "# Progress bar for number of files processed\n",
    "progress = widgets.IntProgress(\n",
    "    value=0,\n",
    "    min=0,\n",
    "    max=len(FILES),\n",
    "    step=1,\n",
    "    description='Completed:',\n",
    "    bar_style='',\n",
    "    orientation='horizontal'\n",
    ")\n",
    "\n",
    "# Container for the report\n",
    "report_out = widgets.Output()\n",
    "\n",
    "# Container for the entities sample\n",
    "ents_out = widgets.Output()"
   ]
  },
  {
   "cell_type": "markdown",
   "metadata": {},
   "source": [
    "### Extract entities per message"
   ]
  },
  {
   "cell_type": "code",
   "execution_count": null,
   "metadata": {},
   "outputs": [],
   "source": [
    "%%time\n",
    "\n",
    "# handler.clear_logs()\n",
    "\n",
    "# Overall report\n",
    "report = defaultdict(int)\n",
    "\n",
    "# Start displaying results\n",
    "display(Box(children=[report_out, progress], layout=report_box_layout))\n",
    "\n",
    "# Entities sample widget\n",
    "if SHOW_ENTITIES:\n",
    "    display(Box(children=[ents_out], layout=entities_box_layout))\n",
    "\n",
    "# Can't pickle lambdas\n",
    "def job(args):\n",
    "    return process_message(*args)\n",
    "\n",
    "if __name__ == '__main__':\n",
    "    with multiprocessing.Pool() as pool, open_db_session() as session:\n",
    "        for entities, exc in pool.imap(job, get_messages(FILES, report), chunksize=100):\n",
    "            if exc:\n",
    "                report['Errors'] += 1\n",
    "                logger.error(exc)\n",
    "            \n",
    "            for entity in entities:\n",
    "                new_ent = Entity(**entity)\n",
    "                session.add(new_ent)\n",
    "            \n",
    "            report['Entities'] += len(entities)\n",
    "            \n",
    "            # Update entities sample\n",
    "            if SHOW_ENTITIES:\n",
    "                update_entities(ents_out, entities[:10])\n",
    "            \n",
    "            # Refresh report widgets\n",
    "            if SHOW_PROGRESS:\n",
    "                update_report(report_out, report)\n",
    "\n",
    "# Final report\n",
    "if not SHOW_PROGRESS:\n",
    "    update_report(report_out, report)"
   ]
  },
  {
   "cell_type": "code",
   "execution_count": null,
   "metadata": {},
   "outputs": [],
   "source": [
    "# Print out errors, if any \n",
    "handler.show_logs()"
   ]
  },
  {
   "cell_type": "code",
   "execution_count": null,
   "metadata": {},
   "outputs": [],
   "source": [
    "# Quick check\n",
    "session.query(Entity).count()"
   ]
  }
 ],
 "metadata": {
  "kernelspec": {
   "display_name": "Python 3",
   "language": "python",
   "name": "python3"
  },
  "language_info": {
   "codemirror_mode": {
    "name": "ipython",
    "version": 3
   },
   "file_extension": ".py",
   "mimetype": "text/x-python",
   "name": "python",
   "nbconvert_exporter": "python",
   "pygments_lexer": "ipython3",
   "version": "3.7.3"
  }
 },
 "nbformat": 4,
 "nbformat_minor": 2
}
