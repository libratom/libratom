{
 "cells": [
  {
   "cell_type": "code",
   "execution_count": 1,
   "metadata": {},
   "outputs": [],
   "source": [
    "import sys\n",
    "import logging\n",
    "from pathlib import Path\n",
    "from collections import defaultdict, deque\n",
    "\n",
    "import ipywidgets as widgets\n",
    "from ipywidgets import Layout, Box\n",
    "from IPython.display import display\n",
    "\n",
    "import humanfriendly\n",
    "import pandas as pd\n",
    "\n",
    "from libratom.utils.pff import PffArchive"
   ]
  },
  {
   "cell_type": "markdown",
   "metadata": {},
   "source": [
    "### Set up spacy"
   ]
  },
  {
   "cell_type": "code",
   "execution_count": 2,
   "metadata": {},
   "outputs": [],
   "source": [
    "import spacy\n",
    "nlp = spacy.load(\"en_core_web_sm\")"
   ]
  },
  {
   "cell_type": "markdown",
   "metadata": {},
   "source": [
    "### Log settings"
   ]
  },
  {
   "cell_type": "code",
   "execution_count": 3,
   "metadata": {},
   "outputs": [],
   "source": [
    "# https://ipywidgets.readthedocs.io/en/stable/examples/Output%20Widget.html#Integrating-output-widgets-with-the-logging-module\n",
    "class OutputWidgetHandler(logging.Handler):\n",
    "    \"\"\" Custom logging handler sending logs to an output widget \"\"\"\n",
    "\n",
    "    def __init__(self, *args, **kwargs):\n",
    "        super(OutputWidgetHandler, self).__init__(*args, **kwargs)\n",
    "        layout = {\n",
    "            'display': 'flex',\n",
    "            'border': '1px solid lightgray',\n",
    "        }\n",
    "        self.out = widgets.Output(layout=layout)\n",
    "\n",
    "    def emit(self, record):\n",
    "        \"\"\" Overload of logging.Handler method \"\"\"\n",
    "        new_output = {\n",
    "            'name': 'stdout',\n",
    "            'output_type': 'stream',\n",
    "            'text': f'{self.format(record)}\\n'\n",
    "        }\n",
    "        self.out.outputs = (new_output, ) + self.out.outputs\n",
    "\n",
    "    def show_logs(self):\n",
    "        \"\"\" Show the logs \"\"\"\n",
    "        display(self.out)\n",
    "\n",
    "    def clear_logs(self):\n",
    "        \"\"\" Clear the current logs \"\"\"\n",
    "        self.out.clear_output()\n",
    "\n",
    "logger = logging.getLogger(__name__)\n",
    "handler = OutputWidgetHandler()\n",
    "handler.setFormatter(logging.Formatter(logging.BASIC_FORMAT))\n",
    "logger.addHandler(handler)\n",
    "logger.setLevel(logging.INFO)"
   ]
  },
  {
   "cell_type": "markdown",
   "metadata": {},
   "source": [
    "### Location of PST files"
   ]
  },
  {
   "cell_type": "code",
   "execution_count": 4,
   "metadata": {},
   "outputs": [],
   "source": [
    "# Edit as appropriate\n",
    "CACHED_ENRON_DATA_DIR = Path(\"/tmp/libratom/test_data/RevisedEDRMv1_Complete\")"
   ]
  },
  {
   "cell_type": "markdown",
   "metadata": {},
   "source": [
    "### Session variables"
   ]
  },
  {
   "cell_type": "code",
   "execution_count": 5,
   "metadata": {},
   "outputs": [],
   "source": [
    "# Generate the list of files to know how many there are\n",
    "files = list(CACHED_ENRON_DATA_DIR.glob('**/*.pst'))\n",
    "\n",
    "# Overall report\n",
    "report = defaultdict(int)\n",
    "\n",
    "# List of entities to display \n",
    "ents_sample = deque(maxlen=10)"
   ]
  },
  {
   "cell_type": "markdown",
   "metadata": {},
   "source": [
    "### Rendering"
   ]
  },
  {
   "cell_type": "code",
   "execution_count": 6,
   "metadata": {},
   "outputs": [],
   "source": [
    "# Layouts\n",
    "report_box_layout = Layout(\n",
    "    display='flex',\n",
    "    width='50%',\n",
    "    margin='0px 0px 4px 0px',\n",
    "    flex_flow='column',\n",
    "    border='1px solid lightblue',\n",
    "    justify_content='center',\n",
    "    align_items='center'\n",
    ")\n",
    "\n",
    "entities_box_layout = Layout(\n",
    "    width='50%',\n",
    "    margin='0px 0px 4px 0px',\n",
    "    border='1px solid lightblue',\n",
    ")"
   ]
  },
  {
   "cell_type": "markdown",
   "metadata": {},
   "source": [
    "### Utility functions"
   ]
  },
  {
   "cell_type": "code",
   "execution_count": 7,
   "metadata": {},
   "outputs": [],
   "source": [
    "def update_report(out, data):\n",
    "    \"\"\"Refreshes the report output widget\n",
    "    \"\"\"\n",
    "\n",
    "    out.clear_output(wait=True)\n",
    "    \n",
    "    df_data = {key: [value] for key, value in data.items()}\n",
    "    df_data['Size'] = [humanfriendly.format_size(data['Size'])]\n",
    "    \n",
    "    with out:\n",
    "        display(pd.DataFrame(df_data, index=['Total']))\n",
    "\n",
    "\n",
    "def update_entities(out, data):\n",
    "    \"\"\"Refreshes the entities output widget\n",
    "    \"\"\"\n",
    "\n",
    "    out.clear_output(wait=True)\n",
    "    \n",
    "    with out:\n",
    "        print('Sample of entities found')\n",
    "        print('------------------------')\n",
    "\n",
    "        for ent in data:\n",
    "            print(f'{ent.text.strip()}: {ent.label_}')"
   ]
  },
  {
   "cell_type": "markdown",
   "metadata": {},
   "source": [
    "### Initialize progress and report widgets"
   ]
  },
  {
   "cell_type": "code",
   "execution_count": 8,
   "metadata": {},
   "outputs": [],
   "source": [
    "# Progress bar for number of files processed\n",
    "progress = widgets.IntProgress(\n",
    "    value=0,\n",
    "    min=0,\n",
    "    max=len(files),\n",
    "    step=1,\n",
    "    description='Completed:',\n",
    "    bar_style='',\n",
    "    orientation='horizontal'\n",
    ")\n",
    "\n",
    "# Container for the report\n",
    "report_out = widgets.Output()\n",
    "\n",
    "# Container for the entities sample\n",
    "ents_out = widgets.Output()"
   ]
  },
  {
   "cell_type": "markdown",
   "metadata": {},
   "source": [
    "### Iterate over the PST files and extract entities from each message"
   ]
  },
  {
   "cell_type": "code",
   "execution_count": 9,
   "metadata": {},
   "outputs": [
    {
     "data": {
      "application/vnd.jupyter.widget-view+json": {
       "model_id": "4866d3cb1edf4deaae1689bf396c99f9",
       "version_major": 2,
       "version_minor": 0
      },
      "text/plain": [
       "Box(children=(Output(), IntProgress(value=0, description='Completed:', max=4)), layout=Layout(align_items='cen…"
      ]
     },
     "metadata": {},
     "output_type": "display_data"
    },
    {
     "data": {
      "application/vnd.jupyter.widget-view+json": {
       "model_id": "5bd6d9b7c55c4bc1a41a712a4d35d507",
       "version_major": 2,
       "version_minor": 0
      },
      "text/plain": [
       "Box(children=(Output(),), layout=Layout(border='1px solid lightblue', margin='0px 0px 4px 0px', width='50%'))"
      ]
     },
     "metadata": {},
     "output_type": "display_data"
    },
    {
     "name": "stdout",
     "output_type": "stream",
     "text": [
      "CPU times: user 9min 51s, sys: 11.5 s, total: 10min 2s\n",
      "Wall time: 9min 59s\n"
     ]
    }
   ],
   "source": [
    "%%time\n",
    "\n",
    "handler.clear_logs()\n",
    "\n",
    "# Start displaying results\n",
    "display(Box(children=[report_out, progress], layout=report_box_layout))\n",
    "display(Box(children=[ents_out], layout=entities_box_layout))\n",
    "\n",
    "# Iterate over files\n",
    "for pst_file in files:\n",
    "    # Update report\n",
    "    report['Files'] += 1    \n",
    "    report['Size'] += pst_file.stat().st_size\n",
    "    \n",
    "    try:\n",
    "        # Iterate over messages\n",
    "        with PffArchive(pst_file) as archive:\n",
    "            for message in archive.messages():\n",
    "                # Update report\n",
    "                report['Messages'] += 1\n",
    "                \n",
    "                try:\n",
    "                    # Extract entities from the message\n",
    "                    doc = nlp(archive.format_message(message))\n",
    "                    entities = doc.ents\n",
    "                    report['Entities'] += len(entities)\n",
    "                    \n",
    "                    # Show up to 10 entities\n",
    "                    ents_sample.extendleft(entities)\n",
    "\n",
    "                    # Refresh report widget every 10 messages\n",
    "                    if not report['Messages'] % 10:\n",
    "                        update_report(report_out, report)\n",
    "                        update_entities(ents_out, ents_sample)\n",
    "\n",
    "                except Exception as exc:\n",
    "                    # Log error and move on to the next message\n",
    "                    report['Errors'] += 1\n",
    "                    logger.exception(exc)\n",
    "\n",
    "    except Exception as exc:\n",
    "        # Log error and move on to the next file\n",
    "        report['Errors'] += 1\n",
    "        logger.exception(exc)\n",
    "    \n",
    "    # Update progress bar\n",
    "    progress.value += 1\n",
    "    \n",
    "    # Refresh report widget\n",
    "    update_report(report_out, report)"
   ]
  },
  {
   "cell_type": "code",
   "execution_count": null,
   "metadata": {},
   "outputs": [],
   "source": [
    "# Print out errors, if any \n",
    "handler.show_logs()"
   ]
  },
  {
   "cell_type": "code",
   "execution_count": 11,
   "metadata": {},
   "outputs": [
    {
     "data": {
      "text/plain": [
       "630919"
      ]
     },
     "execution_count": 11,
     "metadata": {},
     "output_type": "execute_result"
    }
   ],
   "source": [
    "report['Entities']"
   ]
  },
  {
   "cell_type": "code",
   "execution_count": 17,
   "metadata": {},
   "outputs": [
    {
     "data": {
      "text/plain": [
       "['_',\n",
       " '__class__',\n",
       " '__delattr__',\n",
       " '__dir__',\n",
       " '__doc__',\n",
       " '__eq__',\n",
       " '__format__',\n",
       " '__ge__',\n",
       " '__getattribute__',\n",
       " '__getitem__',\n",
       " '__gt__',\n",
       " '__hash__',\n",
       " '__init__',\n",
       " '__init_subclass__',\n",
       " '__iter__',\n",
       " '__le__',\n",
       " '__len__',\n",
       " '__lt__',\n",
       " '__ne__',\n",
       " '__new__',\n",
       " '__pyx_vtable__',\n",
       " '__reduce__',\n",
       " '__reduce_ex__',\n",
       " '__repr__',\n",
       " '__setattr__',\n",
       " '__sizeof__',\n",
       " '__str__',\n",
       " '__subclasshook__',\n",
       " '_recalculate_indices',\n",
       " '_vector',\n",
       " '_vector_norm',\n",
       " 'as_doc',\n",
       " 'conjuncts',\n",
       " 'doc',\n",
       " 'end',\n",
       " 'end_char',\n",
       " 'ent_id',\n",
       " 'ent_id_',\n",
       " 'ents',\n",
       " 'get_extension',\n",
       " 'get_lca_matrix',\n",
       " 'has_extension',\n",
       " 'has_vector',\n",
       " 'kb_id',\n",
       " 'kb_id_',\n",
       " 'label',\n",
       " 'label_',\n",
       " 'lefts',\n",
       " 'lemma_',\n",
       " 'lower_',\n",
       " 'merge',\n",
       " 'n_lefts',\n",
       " 'n_rights',\n",
       " 'noun_chunks',\n",
       " 'orth_',\n",
       " 'remove_extension',\n",
       " 'rights',\n",
       " 'root',\n",
       " 'sent',\n",
       " 'sentiment',\n",
       " 'set_extension',\n",
       " 'similarity',\n",
       " 'start',\n",
       " 'start_char',\n",
       " 'string',\n",
       " 'subtree',\n",
       " 'text',\n",
       " 'text_with_ws',\n",
       " 'to_array',\n",
       " 'upper_',\n",
       " 'vector',\n",
       " 'vector_norm',\n",
       " 'vocab']"
      ]
     },
     "execution_count": 17,
     "metadata": {},
     "output_type": "execute_result"
    }
   ],
   "source": [
    "dir(ents_sample[4])"
   ]
  },
  {
   "cell_type": "code",
   "execution_count": 18,
   "metadata": {},
   "outputs": [],
   "source": [
    "entity = ents_sample[4]"
   ]
  },
  {
   "cell_type": "code",
   "execution_count": 23,
   "metadata": {},
   "outputs": [
    {
     "data": {
      "text/plain": [
       "int"
      ]
     },
     "execution_count": 23,
     "metadata": {},
     "output_type": "execute_result"
    }
   ],
   "source": [
    "type(entity.ent_id)"
   ]
  },
  {
   "cell_type": "code",
   "execution_count": 22,
   "metadata": {},
   "outputs": [
    {
     "data": {
      "text/plain": [
       "'EML'"
      ]
     },
     "execution_count": 22,
     "metadata": {},
     "output_type": "execute_result"
    }
   ],
   "source": [
    "entity.text"
   ]
  },
  {
   "cell_type": "code",
   "execution_count": 24,
   "metadata": {},
   "outputs": [
    {
     "data": {
      "text/plain": [
       "date: Fri, 18 May 2001 01:38:00 -0700 (PDT) Fri, 18 May 2001 01:38:00 -0700  (PDT)\n",
       "Message-ID: <C1PTMZZVPOWNW3QLBFJM5JK3CXIHXZABA@zlsvr22>\n",
       "MIME-Version: 1.0\n",
       "Content-Type: text/plain; charset=\"us-ascii\"\n",
       "Content-Transfer-Encoding: 7bit\n",
       "from: \"Andrea Ring\"\n",
       "to: \"Jared Kaiser\" <Jared Kaiser/ENRON@enronXgate@ENRON>\n",
       "subject: Re:\n",
       "filename: aring (Non-Privileged).pst\n",
       "folder: \\Andrea_Ring_Jan2002_1\\Ring, Andrea\\'Sent Mail\n",
       "Body-Type: plain-text\n",
       "\n",
       "Hi!\n",
       "\n",
       "                  Yes,  we were discussing your lending habits and everyone was calling me a fricken mouch!  Your like a legend around here.\n",
       "We still need to get together and share some of your previous comments with Craig.  How are you?  I miss you and get regular updates about how you are doing from you know who.  Been to any exciting ports lately.   Any baby news?  Not much new around here - John Craig keeps us laughing.  Take care!\n",
       "\n",
       "                                                                                                                                                                                             Andy    \n",
       "\n",
       "***********\n",
       "EDRM Enron Email Data Set has been produced in EML, PST and NSF format by ZL Technologies, Inc. This Data Set is licensed under a Creative Commons Attribution 3.0 United States License <http://creativecommons.org/licenses/by/3.0/us/> . To provide attribution, please cite to \"ZL Technologies, Inc. (http://www.zlti.com).\"\n",
       "***********"
      ]
     },
     "execution_count": 24,
     "metadata": {},
     "output_type": "execute_result"
    }
   ],
   "source": [
    "entity.doc"
   ]
  },
  {
   "cell_type": "code",
   "execution_count": 27,
   "metadata": {},
   "outputs": [
    {
     "data": {
      "text/plain": [
       "str"
      ]
     },
     "execution_count": 27,
     "metadata": {},
     "output_type": "execute_result"
    }
   ],
   "source": [
    "type(entity.label_)"
   ]
  },
  {
   "cell_type": "code",
   "execution_count": 29,
   "metadata": {},
   "outputs": [
    {
     "data": {
      "text/plain": [
       "'ORG'"
      ]
     },
     "execution_count": 29,
     "metadata": {},
     "output_type": "execute_result"
    }
   ],
   "source": [
    "entity.label_"
   ]
  },
  {
   "cell_type": "code",
   "execution_count": null,
   "metadata": {},
   "outputs": [],
   "source": []
  }
 ],
 "metadata": {
  "kernelspec": {
   "display_name": "Python 3",
   "language": "python",
   "name": "python3"
  },
  "language_info": {
   "codemirror_mode": {
    "name": "ipython",
    "version": 3
   },
   "file_extension": ".py",
   "mimetype": "text/x-python",
   "name": "python",
   "nbconvert_exporter": "python",
   "pygments_lexer": "ipython3",
   "version": "3.7.3"
  }
 },
 "nbformat": 4,
 "nbformat_minor": 2
}
