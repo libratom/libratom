{
 "cells": [
  {
   "cell_type": "code",
   "execution_count": null,
   "metadata": {},
   "outputs": [],
   "source": [
    "import sys\n",
    "import logging\n",
    "from pathlib import Path\n",
    "from collections import defaultdict\n",
    "\n",
    "import ipywidgets as widgets\n",
    "from ipywidgets import Layout, Box\n",
    "from IPython.display import display\n",
    "\n",
    "import humanfriendly\n",
    "import pandas as pd\n",
    "\n",
    "from libratom.utils.pff import PffArchive"
   ]
  },
  {
   "cell_type": "markdown",
   "metadata": {},
   "source": [
    "### Set up spacy"
   ]
  },
  {
   "cell_type": "code",
   "execution_count": null,
   "metadata": {},
   "outputs": [],
   "source": [
    "import spacy\n",
    "nlp = spacy.load(\"en_core_web_sm\")"
   ]
  },
  {
   "cell_type": "markdown",
   "metadata": {},
   "source": [
    "### Log settings"
   ]
  },
  {
   "cell_type": "code",
   "execution_count": null,
   "metadata": {},
   "outputs": [],
   "source": [
    "# https://ipywidgets.readthedocs.io/en/stable/examples/Output%20Widget.html#Integrating-output-widgets-with-the-logging-module\n",
    "class OutputWidgetHandler(logging.Handler):\n",
    "    \"\"\" Custom logging handler sending logs to an output widget \"\"\"\n",
    "\n",
    "    def __init__(self, *args, **kwargs):\n",
    "        super(OutputWidgetHandler, self).__init__(*args, **kwargs)\n",
    "        layout = {\n",
    "            'display': 'flex',\n",
    "            'border': '1px solid lightgray',\n",
    "        }\n",
    "        self.out = widgets.Output(layout=layout)\n",
    "\n",
    "    def emit(self, record):\n",
    "        \"\"\" Overload of logging.Handler method \"\"\"\n",
    "        new_output = {\n",
    "            'name': 'stdout',\n",
    "            'output_type': 'stream',\n",
    "            'text': f'{self.format(record)}\\n'\n",
    "        }\n",
    "        self.out.outputs = (new_output, ) + self.out.outputs\n",
    "\n",
    "    def show_logs(self):\n",
    "        \"\"\" Show the logs \"\"\"\n",
    "        display(self.out)\n",
    "\n",
    "    def clear_logs(self):\n",
    "        \"\"\" Clear the current logs \"\"\"\n",
    "        self.out.clear_output()\n",
    "\n",
    "logger = logging.getLogger(__name__)\n",
    "handler = OutputWidgetHandler()\n",
    "handler.setFormatter(logging.Formatter(logging.BASIC_FORMAT))\n",
    "logger.addHandler(handler)\n",
    "logger.setLevel(logging.INFO)"
   ]
  },
  {
   "cell_type": "markdown",
   "metadata": {},
   "source": [
    "### Location of PST files"
   ]
  },
  {
   "cell_type": "code",
   "execution_count": null,
   "metadata": {},
   "outputs": [],
   "source": [
    "# Edit as appropriate\n",
    "CACHED_ENRON_DATA_DIR = Path(\"/tmp/libratom/test_data/RevisedEDRMv1_Complete/andy_zipper\")"
   ]
  },
  {
   "cell_type": "markdown",
   "metadata": {},
   "source": [
    "### Session variables"
   ]
  },
  {
   "cell_type": "code",
   "execution_count": null,
   "metadata": {},
   "outputs": [],
   "source": [
    "# Generate the list of files to know how many there are\n",
    "FILES = list(CACHED_ENRON_DATA_DIR.glob('**/*.pst'))"
   ]
  },
  {
   "cell_type": "markdown",
   "metadata": {},
   "source": [
    "### Rendering"
   ]
  },
  {
   "cell_type": "code",
   "execution_count": null,
   "metadata": {},
   "outputs": [],
   "source": [
    "# Layouts\n",
    "report_box_layout = Layout(\n",
    "    display='flex',\n",
    "    width='50%',\n",
    "    margin='0px 0px 4px 0px',\n",
    "    flex_flow='column',\n",
    "    border='1px solid lightblue',\n",
    "    justify_content='center',\n",
    "    align_items='center'\n",
    ")\n",
    "\n",
    "entities_box_layout = Layout(\n",
    "    width='50%',\n",
    "    margin='0px 0px 4px 0px',\n",
    "    border='1px solid lightblue',\n",
    ")"
   ]
  },
  {
   "cell_type": "markdown",
   "metadata": {},
   "source": [
    "### Utility functions"
   ]
  },
  {
   "cell_type": "code",
   "execution_count": null,
   "metadata": {},
   "outputs": [],
   "source": [
    "def update_report(out, data):\n",
    "    \"\"\"Refreshes the report output widget\n",
    "    \"\"\"\n",
    "\n",
    "    out.clear_output(wait=True)\n",
    "    \n",
    "    df_data = {key: [value] for key, value in data.items()}\n",
    "    df_data['Size'] = [humanfriendly.format_size(data['Size'])]\n",
    "    \n",
    "    with out:\n",
    "        display(pd.DataFrame(df_data, index=['Total']))\n",
    "\n",
    "\n",
    "def update_entities(out, data):\n",
    "    \"\"\"Refreshes the entities output widget\n",
    "    \"\"\"\n",
    "\n",
    "    out.clear_output(wait=True)\n",
    "    \n",
    "    with out:\n",
    "        print('Sample of entities found')\n",
    "        print('------------------------')\n",
    "\n",
    "        for ent in data:\n",
    "            print(f'{ent.text.strip()}: {ent.label_}')"
   ]
  },
  {
   "cell_type": "markdown",
   "metadata": {},
   "source": [
    "### Initialize progress and report widgets"
   ]
  },
  {
   "cell_type": "code",
   "execution_count": null,
   "metadata": {},
   "outputs": [],
   "source": [
    "# Progress bar for number of files processed\n",
    "progress = widgets.IntProgress(\n",
    "    value=0,\n",
    "    min=0,\n",
    "    max=len(FILES),\n",
    "    step=1,\n",
    "    description='Completed:',\n",
    "    bar_style='',\n",
    "    orientation='horizontal'\n",
    ")\n",
    "\n",
    "# Container for the report\n",
    "report_out = widgets.Output()\n",
    "\n",
    "# Container for the entities sample\n",
    "ents_out = widgets.Output()"
   ]
  },
  {
   "cell_type": "markdown",
   "metadata": {},
   "source": [
    "### Iterate over the PST files and extract entities from each message"
   ]
  },
  {
   "cell_type": "code",
   "execution_count": null,
   "metadata": {},
   "outputs": [],
   "source": [
    "%%time\n",
    "\n",
    "handler.clear_logs()\n",
    "\n",
    "# Overall report\n",
    "report = defaultdict(int)\n",
    "\n",
    "# Start displaying results\n",
    "display(Box(children=[report_out, progress], layout=report_box_layout))\n",
    "display(Box(children=[ents_out], layout=entities_box_layout))\n",
    "\n",
    "# Iterate over files\n",
    "for pst_file in FILES:\n",
    "    # Update report\n",
    "    report['Files'] += 1    \n",
    "    report['Size'] += pst_file.stat().st_size\n",
    "    \n",
    "    try:\n",
    "        # Iterate over messages\n",
    "        with PffArchive(pst_file) as archive:\n",
    "            for message in archive.messages():\n",
    "                # Update report\n",
    "                report['Messages'] += 1\n",
    "                \n",
    "                try:\n",
    "                    # Extract entities from the message\n",
    "                    doc = nlp(archive.format_message(message))\n",
    "                    entities = doc.ents\n",
    "                    report['Entities'] += len(entities)\n",
    "\n",
    "                    # Refresh report widget every 10 messages\n",
    "                    if not report['Messages'] % 10:\n",
    "                        update_report(report_out, report)\n",
    "                        update_entities(ents_out, entities[:10]) # show up to 10 entities\n",
    "\n",
    "                except Exception as exc:\n",
    "                    # Log error and move on to the next message\n",
    "                    report['Errors'] += 1\n",
    "                    logger.exception(exc)\n",
    "\n",
    "    except Exception as exc:\n",
    "        # Log error and move on to the next file\n",
    "        report['Errors'] += 1\n",
    "        logger.exception(exc)\n",
    "    \n",
    "    # Update progress bar\n",
    "    progress.value += 1\n",
    "    \n",
    "    # Refresh report widget\n",
    "    update_report(report_out, report)"
   ]
  },
  {
   "cell_type": "code",
   "execution_count": null,
   "metadata": {},
   "outputs": [],
   "source": [
    "# Print out errors, if any \n",
    "handler.show_logs()"
   ]
  }
 ],
 "metadata": {
  "kernelspec": {
   "display_name": "Python 3",
   "language": "python",
   "name": "python3"
  },
  "language_info": {
   "codemirror_mode": {
    "name": "ipython",
    "version": 3
   },
   "file_extension": ".py",
   "mimetype": "text/x-python",
   "name": "python",
   "nbconvert_exporter": "python",
   "pygments_lexer": "ipython3",
   "version": "3.7.3"
  }
 },
 "nbformat": 4,
 "nbformat_minor": 2
}
